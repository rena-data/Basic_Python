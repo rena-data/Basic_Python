{
 "cells": [
  {
   "cell_type": "markdown",
   "id": "4750e845",
   "metadata": {},
   "source": [
    "## 반복문: While"
   ]
  },
  {
   "cell_type": "code",
   "execution_count": 1,
   "id": "a0d074e0",
   "metadata": {},
   "outputs": [
    {
     "name": "stdout",
     "output_type": "stream",
     "text": [
      "1\n",
      "2\n",
      "3\n",
      "4\n",
      "5\n",
      "6\n",
      "7\n",
      "8\n",
      "9\n",
      "10\n",
      "11\n",
      "12\n",
      "13\n",
      "14\n",
      "15\n",
      "16\n",
      "17\n",
      "18\n",
      "19\n",
      "20\n",
      "21\n",
      "22\n",
      "23\n",
      "24\n",
      "25\n",
      "26\n",
      "27\n",
      "28\n",
      "29\n",
      "30\n",
      "31\n",
      "32\n",
      "33\n",
      "34\n",
      "35\n",
      "36\n",
      "37\n",
      "38\n",
      "39\n",
      "40\n",
      "41\n",
      "42\n",
      "43\n",
      "44\n",
      "45\n",
      "46\n",
      "47\n",
      "48\n",
      "49\n",
      "50\n",
      "51\n",
      "52\n",
      "53\n",
      "54\n",
      "55\n",
      "56\n",
      "57\n",
      "58\n",
      "59\n",
      "60\n",
      "61\n",
      "62\n",
      "63\n",
      "64\n",
      "65\n",
      "66\n",
      "67\n",
      "68\n",
      "69\n",
      "70\n",
      "71\n",
      "72\n",
      "73\n",
      "74\n",
      "75\n",
      "76\n",
      "77\n",
      "78\n",
      "79\n",
      "80\n",
      "81\n",
      "82\n",
      "83\n",
      "84\n",
      "85\n",
      "86\n",
      "87\n",
      "88\n",
      "89\n",
      "90\n",
      "91\n",
      "92\n",
      "93\n",
      "94\n",
      "95\n",
      "96\n",
      "97\n",
      "98\n",
      "99\n",
      "100\n"
     ]
    }
   ],
   "source": [
    "num = 1\n",
    "while num <= 100:\n",
    "  print(num)\n",
    "  num = num + 1"
   ]
  },
  {
   "cell_type": "code",
   "execution_count": 2,
   "id": "0abdfa24",
   "metadata": {},
   "outputs": [
    {
     "name": "stdout",
     "output_type": "stream",
     "text": [
      "1\n",
      "2\n",
      "3\n",
      "4\n",
      "5\n"
     ]
    }
   ],
   "source": [
    "# 위의 조건 그대로, 출력만 5까지로 수정할때?\n",
    "num = 1\n",
    "while num <= 100:\n",
    "    if num <= 5:\n",
    "        print(num)\n",
    "    num = num + 1"
   ]
  },
  {
   "cell_type": "markdown",
   "id": "9ddabd19",
   "metadata": {},
   "source": [
    "#### 2.1.1 연습 문제: 입력받은 숫자만큼 반복하기(while)\n",
    "input()으로 사용자로부터 정수를 한 개 입력받아, 그 숫자를 숫자 크기만큼 반복해서 출력하는 파이썬 스크립트를 작성하세요. <br>\n",
    "이때 출력 앞에 공백을 한 칸 주어서, 입력과 출력이 구분되게 합니다. <br>\n",
    "단, while 문을 사용하세요."
   ]
  },
  {
   "cell_type": "code",
   "execution_count": null,
   "id": "314c9e5d",
   "metadata": {},
   "outputs": [],
   "source": [
    "# 예시 1 입력\n",
    "3\n",
    "# 출력\n",
    "3\n",
    "3\n",
    "3"
   ]
  },
  {
   "cell_type": "code",
   "execution_count": null,
   "id": "dfb2cceb",
   "metadata": {},
   "outputs": [],
   "source": [
    "# 예시 2 입력\n",
    "5\n",
    "# 출력\n",
    "5\n",
    "5\n",
    "5\n",
    "5\n",
    "5"
   ]
  },
  {
   "cell_type": "code",
   "execution_count": 10,
   "id": "8a5d235f",
   "metadata": {},
   "outputs": [
    {
     "name": "stdout",
     "output_type": "stream",
     "text": [
      " 3\n",
      " 3\n",
      " 3\n"
     ]
    }
   ],
   "source": [
    "test = int(input())\n",
    "i = 0\n",
    "while i < test:\n",
    "    print('', test)\n",
    "    i += 1"
   ]
  },
  {
   "cell_type": "code",
   "execution_count": null,
   "id": "e88e8536",
   "metadata": {},
   "outputs": [],
   "source": []
  },
  {
   "cell_type": "code",
   "execution_count": null,
   "id": "7a08a719",
   "metadata": {},
   "outputs": [],
   "source": []
  },
  {
   "cell_type": "code",
   "execution_count": null,
   "id": "c26b8d87",
   "metadata": {},
   "outputs": [],
   "source": []
  },
  {
   "cell_type": "code",
   "execution_count": null,
   "id": "17d9feb6",
   "metadata": {},
   "outputs": [],
   "source": []
  },
  {
   "cell_type": "markdown",
   "id": "acbd92d6",
   "metadata": {},
   "source": [
    "#### 논외) 추가 문제 -> 그냥 궁금해서 기재하는 문제"
   ]
  },
  {
   "cell_type": "code",
   "execution_count": null,
   "id": "5e4323ed",
   "metadata": {},
   "outputs": [
    {
     "data": {
      "text/plain": [
       "False"
      ]
     },
     "execution_count": 9,
     "metadata": {},
     "output_type": "execute_result"
    }
   ],
   "source": [
    "0.1 + 1.1 == 1.2  \n",
    "# 결과는 False\n",
    "# 왜 False로 나오는가? 위의 수식이 틀린 이유는?"
   ]
  },
  {
   "cell_type": "markdown",
   "id": "0a052330",
   "metadata": {},
   "source": [
    "* answer<br>\n",
    "부동소수점 연산에서 발생하는 문제 <br>\n",
    "10진 소수 중 분모에 2나 5 이외의 소인수가 포함되지 않아야, 2진수로 정확히 표현할 수 있다. <br>\n",
    "하지만 0.1, 1.1, 1.2는 분모가 10, 10, 5로 2의 거듭제곱이 아니기 때문에 <br>\n",
    "2진수로는 무한소수가 되어 정확하게 표현할 수 없다 <br>\n",
    "0.1 + 1.1 != 1.2는 2진수로 정확히 표현할 수 없는 실수이기 때문 <br>\n",
    "컴퓨터는 이를 근사값으로 저장하므로 오차가 생긴다"
   ]
  },
  {
   "cell_type": "code",
   "execution_count": null,
   "id": "a8435171",
   "metadata": {},
   "outputs": [
    {
     "data": {
      "text/plain": [
       "True"
      ]
     },
     "execution_count": 7,
     "metadata": {},
     "output_type": "execute_result"
    }
   ],
   "source": [
    "# 근사값 코드를 구하면 결과값이 True\n",
    "import math\n",
    "math.isclose(0.1 + 1.1, 1.2)"
   ]
  }
 ],
 "metadata": {
  "kernelspec": {
   "display_name": "Python 3",
   "language": "python",
   "name": "python3"
  },
  "language_info": {
   "codemirror_mode": {
    "name": "ipython",
    "version": 3
   },
   "file_extension": ".py",
   "mimetype": "text/x-python",
   "name": "python",
   "nbconvert_exporter": "python",
   "pygments_lexer": "ipython3",
   "version": "3.11.11"
  }
 },
 "nbformat": 4,
 "nbformat_minor": 5
}
