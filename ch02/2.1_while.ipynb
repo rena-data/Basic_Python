{
 "cells": [
  {
   "cell_type": "markdown",
   "id": "4750e845",
   "metadata": {},
   "source": [
    "## 반복문: While"
   ]
  },
  {
   "cell_type": "code",
   "execution_count": 1,
   "id": "a0d074e0",
   "metadata": {},
   "outputs": [
    {
     "name": "stdout",
     "output_type": "stream",
     "text": [
      "1\n",
      "2\n",
      "3\n",
      "4\n",
      "5\n",
      "6\n",
      "7\n",
      "8\n",
      "9\n",
      "10\n",
      "11\n",
      "12\n",
      "13\n",
      "14\n",
      "15\n",
      "16\n",
      "17\n",
      "18\n",
      "19\n",
      "20\n",
      "21\n",
      "22\n",
      "23\n",
      "24\n",
      "25\n",
      "26\n",
      "27\n",
      "28\n",
      "29\n",
      "30\n",
      "31\n",
      "32\n",
      "33\n",
      "34\n",
      "35\n",
      "36\n",
      "37\n",
      "38\n",
      "39\n",
      "40\n",
      "41\n",
      "42\n",
      "43\n",
      "44\n",
      "45\n",
      "46\n",
      "47\n",
      "48\n",
      "49\n",
      "50\n",
      "51\n",
      "52\n",
      "53\n",
      "54\n",
      "55\n",
      "56\n",
      "57\n",
      "58\n",
      "59\n",
      "60\n",
      "61\n",
      "62\n",
      "63\n",
      "64\n",
      "65\n",
      "66\n",
      "67\n",
      "68\n",
      "69\n",
      "70\n",
      "71\n",
      "72\n",
      "73\n",
      "74\n",
      "75\n",
      "76\n",
      "77\n",
      "78\n",
      "79\n",
      "80\n",
      "81\n",
      "82\n",
      "83\n",
      "84\n",
      "85\n",
      "86\n",
      "87\n",
      "88\n",
      "89\n",
      "90\n",
      "91\n",
      "92\n",
      "93\n",
      "94\n",
      "95\n",
      "96\n",
      "97\n",
      "98\n",
      "99\n",
      "100\n"
     ]
    }
   ],
   "source": [
    "num = 1\n",
    "while num <= 100:\n",
    "  print(num)\n",
    "  num = num + 1"
   ]
  },
  {
   "cell_type": "code",
   "execution_count": 2,
   "id": "0abdfa24",
   "metadata": {},
   "outputs": [
    {
     "name": "stdout",
     "output_type": "stream",
     "text": [
      "1\n",
      "2\n",
      "3\n",
      "4\n",
      "5\n"
     ]
    }
   ],
   "source": [
    "# 위의 조건 그대로, 출력만 5까지로 수정할때?\n",
    "num = 1\n",
    "while num <= 100:\n",
    "    if num <= 5:\n",
    "        print(num)\n",
    "    num = num + 1"
   ]
  },
  {
   "cell_type": "markdown",
   "id": "9ddabd19",
   "metadata": {},
   "source": [
    "#### 2.1.1 연습 문제: 입력받은 숫자만큼 반복하기(while)\n",
    "input()으로 사용자로부터 정수를 한 개 입력받아, 그 숫자를 숫자 크기만큼 반복해서 출력하는 파이썬 스크립트를 작성하세요. <br>\n",
    "이때 출력 앞에 공백을 한 칸 주어서, 입력과 출력이 구분되게 합니다. <br>\n",
    "단, while 문을 사용하세요."
   ]
  },
  {
   "cell_type": "code",
   "execution_count": 3,
   "id": "314c9e5d",
   "metadata": {},
   "outputs": [
    {
     "data": {
      "text/plain": [
       "3"
      ]
     },
     "execution_count": 3,
     "metadata": {},
     "output_type": "execute_result"
    }
   ],
   "source": [
    "# 예시 1 입력\n",
    "3\n",
    "# 출력\n",
    "3\n",
    "3\n",
    "3"
   ]
  },
  {
   "cell_type": "code",
   "execution_count": 4,
   "id": "dfb2cceb",
   "metadata": {},
   "outputs": [
    {
     "data": {
      "text/plain": [
       "5"
      ]
     },
     "execution_count": 4,
     "metadata": {},
     "output_type": "execute_result"
    }
   ],
   "source": [
    "# 예시 2 입력\n",
    "5\n",
    "# 출력\n",
    "5\n",
    "5\n",
    "5\n",
    "5\n",
    "5"
   ]
  },
  {
   "cell_type": "code",
   "execution_count": 5,
   "id": "8a5d235f",
   "metadata": {},
   "outputs": [
    {
     "ename": "ValueError",
     "evalue": "invalid literal for int() with base 10: ''",
     "output_type": "error",
     "traceback": [
      "\u001b[31m---------------------------------------------------------------------------\u001b[39m",
      "\u001b[31mValueError\u001b[39m                                Traceback (most recent call last)",
      "\u001b[36mCell\u001b[39m\u001b[36m \u001b[39m\u001b[32mIn[5]\u001b[39m\u001b[32m, line 1\u001b[39m\n\u001b[32m----> \u001b[39m\u001b[32m1\u001b[39m test = \u001b[38;5;28;43mint\u001b[39;49m\u001b[43m(\u001b[49m\u001b[38;5;28;43minput\u001b[39;49m\u001b[43m(\u001b[49m\u001b[43m)\u001b[49m\u001b[43m)\u001b[49m\n\u001b[32m      2\u001b[39m i = \u001b[32m0\u001b[39m\n\u001b[32m      3\u001b[39m \u001b[38;5;28;01mwhile\u001b[39;00m i < test:\n",
      "\u001b[31mValueError\u001b[39m: invalid literal for int() with base 10: ''"
     ]
    }
   ],
   "source": [
    "test = int(input())\n",
    "i = 0\n",
    "while i < test:\n",
    "    print('', test)\n",
    "    i += 1"
   ]
  },
  {
   "cell_type": "markdown",
   "id": "1740f21d",
   "metadata": {},
   "source": [
    "#### 2.1.2 연습 문제: 제곱표(while)\n",
    "정수를 한 개 입력받아, 1부터 입력받은 수까지 각각에 대해 제곱을 구해 프린트하는 프로그램을 작성해 보세요. <br>\n",
    "단, while 문을 사용하세요."
   ]
  },
  {
   "cell_type": "code",
   "execution_count": null,
   "id": "565abc45",
   "metadata": {},
   "outputs": [],
   "source": [
    "# 예시 1 입력\n",
    "3\n",
    "# 출력\n",
    "1 1\n",
    "2 4\n",
    "3 9"
   ]
  },
  {
   "cell_type": "code",
   "execution_count": null,
   "id": "17d9feb6",
   "metadata": {},
   "outputs": [],
   "source": [
    "# 예시 2 입력\n",
    "5\n",
    "# 출력\n",
    "1 1\n",
    "2 4\n",
    "3 9\n",
    "4 16\n",
    "5 25"
   ]
  },
  {
   "cell_type": "code",
   "execution_count": 9,
   "id": "62b39a1a",
   "metadata": {},
   "outputs": [
    {
     "name": "stdout",
     "output_type": "stream",
     "text": [
      "1 1\n",
      "2 4\n",
      "3 9\n",
      "4 16\n",
      "5 25\n"
     ]
    }
   ],
   "source": [
    "a = int(input())\n",
    "b = 1\n",
    "while b <= a:\n",
    "    print(b, b*b)\n",
    "    b += 1"
   ]
  },
  {
   "cell_type": "markdown",
   "id": "811a2aac",
   "metadata": {},
   "source": [
    "#### 2.1.3 연습 문제: 얌체공\n",
    "고무공을 100 미터 높이에서 떨어뜨리는데, 이 공은 땅에 닿을 때마다 원래 높이의 3/5 만큼 튀어오릅니다. <br>\n",
    "공이 열 번 튈 동안, 그때마다 공의 높이를 계산합니다. <br>\n",
    "round() 함수를 사용해서, 다음과 같이 소수점 아래 네 자리까지 출력해 보세요."
   ]
  },
  {
   "cell_type": "code",
   "execution_count": null,
   "id": "80d17ad2",
   "metadata": {},
   "outputs": [],
   "source": [
    "# 보기\n",
    "1 60.0\n",
    "2 36.0\n",
    "3 21.599999999999998\n",
    "4 12.959999999999999\n",
    "5 7.775999999999999\n",
    "6 4.6655999999999995\n",
    "7 2.7993599999999996\n",
    "8 1.6796159999999998\n",
    "9 1.0077695999999998\n",
    "10 0.6046617599999998\n",
    "# 출력\n",
    "1 60.0\n",
    "2 36.0\n",
    "3 21.6\n",
    "4 12.96\n",
    "5 7.776\n",
    "6 4.6656\n",
    "7 2.7994\n",
    "8 1.6796\n",
    "9 1.0078\n",
    "10 0.6047"
   ]
  },
  {
   "cell_type": "code",
   "execution_count": null,
   "id": "6eb97954",
   "metadata": {},
   "outputs": [],
   "source": [
    "n = 1\n",
    "h = 100\n",
    "while n"
   ]
  },
  {
   "cell_type": "code",
   "execution_count": null,
   "id": "40700671",
   "metadata": {},
   "outputs": [],
   "source": []
  },
  {
   "cell_type": "markdown",
   "id": "acbd92d6",
   "metadata": {},
   "source": [
    "#### 논외) 추가 문제 -> 그냥 궁금해서 기재하는 문제"
   ]
  },
  {
   "cell_type": "code",
   "execution_count": null,
   "id": "5e4323ed",
   "metadata": {},
   "outputs": [
    {
     "data": {
      "text/plain": [
       "False"
      ]
     },
     "execution_count": 9,
     "metadata": {},
     "output_type": "execute_result"
    }
   ],
   "source": [
    "0.1 + 1.1 == 1.2  \n",
    "# 결과는 False\n",
    "# 왜 False로 나오는가? 위의 수식이 틀린 이유는?"
   ]
  },
  {
   "cell_type": "markdown",
   "id": "0a052330",
   "metadata": {},
   "source": [
    "* answer<br>\n",
    "부동소수점 연산에서 발생하는 문제 <br>\n",
    "10진 소수 중 분모에 2나 5 이외의 소인수가 포함되지 않아야, 2진수로 정확히 표현할 수 있다. <br>\n",
    "하지만 0.1, 1.1, 1.2는 분모가 10, 10, 5로 2의 거듭제곱이 아니기 때문에 <br>\n",
    "2진수로는 무한소수가 되어 정확하게 표현할 수 없다 <br>\n",
    "0.1 + 1.1 != 1.2는 2진수로 정확히 표현할 수 없는 실수이기 때문 <br>\n",
    "컴퓨터는 이를 근사값으로 저장하므로 오차가 생긴다"
   ]
  },
  {
   "cell_type": "code",
   "execution_count": null,
   "id": "a8435171",
   "metadata": {},
   "outputs": [
    {
     "data": {
      "text/plain": [
       "True"
      ]
     },
     "execution_count": 7,
     "metadata": {},
     "output_type": "execute_result"
    }
   ],
   "source": [
    "# 근사값 코드를 구하면 결과값이 True\n",
    "import math\n",
    "math.isclose(0.1 + 1.1, 1.2)"
   ]
  }
 ],
 "metadata": {
  "kernelspec": {
   "display_name": "Python 3",
   "language": "python",
   "name": "python3"
  },
  "language_info": {
   "codemirror_mode": {
    "name": "ipython",
    "version": 3
   },
   "file_extension": ".py",
   "mimetype": "text/x-python",
   "name": "python",
   "nbconvert_exporter": "python",
   "pygments_lexer": "ipython3",
   "version": "3.11.11"
  }
 },
 "nbformat": 4,
 "nbformat_minor": 5
}
