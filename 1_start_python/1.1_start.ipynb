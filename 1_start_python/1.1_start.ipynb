{
 "cells": [
  {
   "cell_type": "markdown",
   "id": "cd4a8576",
   "metadata": {},
   "source": [
    "## 1.1 파이썬 맛보기"
   ]
  },
  {
   "cell_type": "code",
   "execution_count": 2,
   "id": "1fa4945f",
   "metadata": {},
   "outputs": [
    {
     "data": {
      "text/plain": [
       "3"
      ]
     },
     "execution_count": 2,
     "metadata": {},
     "output_type": "execute_result"
    }
   ],
   "source": [
    "# 덧셈\n",
    "1+2"
   ]
  },
  {
   "cell_type": "code",
   "execution_count": 3,
   "id": "8df37283",
   "metadata": {},
   "outputs": [
    {
     "data": {
      "text/plain": [
       "46"
      ]
     },
     "execution_count": 3,
     "metadata": {},
     "output_type": "execute_result"
    }
   ],
   "source": [
    "# 뺄셈\n",
    "50-4"
   ]
  },
  {
   "cell_type": "code",
   "execution_count": 4,
   "id": "474101a4",
   "metadata": {},
   "outputs": [
    {
     "data": {
      "text/plain": [
       "37037034"
      ]
     },
     "execution_count": 4,
     "metadata": {},
     "output_type": "execute_result"
    }
   ],
   "source": [
    "# 곱셈\n",
    "12345678*3"
   ]
  },
  {
   "cell_type": "code",
   "execution_count": 4,
   "id": "675fce6b",
   "metadata": {},
   "outputs": [
    {
     "data": {
      "text/plain": [
       "9"
      ]
     },
     "execution_count": 4,
     "metadata": {},
     "output_type": "execute_result"
    }
   ],
   "source": [
    "# 곱셈 n승\n",
    "3**2"
   ]
  },
  {
   "cell_type": "code",
   "execution_count": 8,
   "id": "18ac96de",
   "metadata": {},
   "outputs": [
    {
     "data": {
      "text/plain": [
       "1666.6666666666667"
      ]
     },
     "execution_count": 8,
     "metadata": {},
     "output_type": "execute_result"
    }
   ],
   "source": [
    "# 나눗셈\n",
    "## Python3 ver.\n",
    "5000 / 3"
   ]
  },
  {
   "cell_type": "code",
   "execution_count": 9,
   "id": "32db53e1",
   "metadata": {},
   "outputs": [
    {
     "data": {
      "text/plain": [
       "1666"
      ]
     },
     "execution_count": 9,
     "metadata": {},
     "output_type": "execute_result"
    }
   ],
   "source": [
    "# 나눗셈\n",
    "## Python3 ver.\n",
    "5000 // 3"
   ]
  },
  {
   "cell_type": "code",
   "execution_count": 10,
   "id": "2d441f85",
   "metadata": {},
   "outputs": [
    {
     "data": {
      "text/plain": [
       "2"
      ]
     },
     "execution_count": 10,
     "metadata": {},
     "output_type": "execute_result"
    }
   ],
   "source": [
    "# 나눗셈하여 나머지를 구할때\n",
    "50%8"
   ]
  },
  {
   "cell_type": "code",
   "execution_count": 11,
   "id": "6acaf61a",
   "metadata": {},
   "outputs": [
    {
     "data": {
      "text/plain": [
       "(6, 2)"
      ]
     },
     "execution_count": 11,
     "metadata": {},
     "output_type": "execute_result"
    }
   ],
   "source": [
    "# 몫과 나머지를 한번에 구하기\n",
    "divmod(50, 8)"
   ]
  },
  {
   "cell_type": "markdown",
   "id": "cc8ae415",
   "metadata": {},
   "source": [
    "### 1.1.1 퀴즈: 사칙연산"
   ]
  },
  {
   "cell_type": "code",
   "execution_count": null,
   "id": "77d46795",
   "metadata": {},
   "outputs": [
    {
     "data": {
      "text/plain": [
       "16"
      ]
     },
     "execution_count": 1,
     "metadata": {},
     "output_type": "execute_result"
    }
   ],
   "source": [
    "8 // 2 * (2 + 2)\n",
    "\n",
    "# 답: 16"
   ]
  },
  {
   "cell_type": "markdown",
   "id": "43206e4d",
   "metadata": {},
   "source": [
    "### 1.1.2 연습 문제: 직선 거리 계산\n",
    "##### 미국 뉴욕의 맨해튼(Manhattan)은 바둑판처럼 구획되어 있어 스트리트와 애비뉴가 직교합니다. 구글 지도에서 한식당에서 병원까지의 거리는 550미터, 병원에서 햄버거 가게까지의 거리는 600미터입니다. 한식당과 햄버거 가게 사이의 직선 거리를 파이썬 셸을 사용해 계산<br>\n",
    "힌트: 피타고라스 정리\n",
    "<math xmlns=\"http://www.w3.org/1998/Math/MathML\" display=\"block\">\n",
    "  <msup>\n",
    "    <mi>a</mi>\n",
    "    <mrow data-mjx-texclass=\"ORD\">\n",
    "      <mn>2</mn>\n",
    "    </mrow>\n",
    "  </msup>\n",
    "  <mo>+</mo>\n",
    "  <msup>\n",
    "    <mi>b</mi>\n",
    "    <mrow data-mjx-texclass=\"ORD\">\n",
    "      <mn>2</mn>\n",
    "    </mrow>\n",
    "  </msup>\n",
    "  <mo>=</mo>\n",
    "  <msup>\n",
    "    <mi>c</mi>\n",
    "    <mrow data-mjx-texclass=\"ORD\">\n",
    "      <mn>2</mn>\n",
    "    </mrow>\n",
    "  </msup>\n",
    "</math><br>\n",
    "<math xmlns=\"http://www.w3.org/1998/Math/MathML\" display=\"block\">\n",
    "  <mi>c</mi>\n",
    "  <mo>=</mo>\n",
    "  <msqrt>\n",
    "    <msup>\n",
    "      <mi>a</mi>\n",
    "      <mn>2</mn>\n",
    "    </msup>\n",
    "    <mo>+</mo>\n",
    "    <msup>\n",
    "      <mi>b</mi>\n",
    "      <mn>2</mn>\n",
    "    </msup>\n",
    "  </msqrt>\n",
    "</math><br>\n",
    "이때 루트값(양의 제곱근)을 계산해야 하는데, 파이썬에서는 다음과 같이 math 모듈의 sqrt 함수를 이용<br>\n",
    "tip: 이 문제에서 구한 직선 거리를 유클리드 거리(Euclidean distance)라고도 한다\n",
    "그런데 직접 걸어가려면 건물을 뚫고 갈 수 없으니 길을 따라 550 + 600 = 1150미터를 이동해야겠죠? 이를 맨해튼 거리(Manhattan distance)라고 부른다"
   ]
  },
  {
   "cell_type": "code",
   "execution_count": 5,
   "id": "86340596",
   "metadata": {},
   "outputs": [
    {
     "data": {
      "text/plain": [
       "813.9410298049853"
      ]
     },
     "execution_count": 5,
     "metadata": {},
     "output_type": "execute_result"
    }
   ],
   "source": [
    "import math\n",
    "math.sqrt(550**2+600**2)"
   ]
  },
  {
   "cell_type": "code",
   "execution_count": 6,
   "id": "a847b4ce",
   "metadata": {},
   "outputs": [
    {
     "data": {
      "text/plain": [
       "814"
      ]
     },
     "execution_count": 6,
     "metadata": {},
     "output_type": "execute_result"
    }
   ],
   "source": [
    "round(math.sqrt(550**2+600**2))"
   ]
  },
  {
   "cell_type": "code",
   "execution_count": null,
   "id": "4eea17a8",
   "metadata": {},
   "outputs": [],
   "source": []
  }
 ],
 "metadata": {
  "kernelspec": {
   "display_name": "Python 3",
   "language": "python",
   "name": "python3"
  },
  "language_info": {
   "codemirror_mode": {
    "name": "ipython",
    "version": 3
   },
   "file_extension": ".py",
   "mimetype": "text/x-python",
   "name": "python",
   "nbconvert_exporter": "python",
   "pygments_lexer": "ipython3",
   "version": "3.11.11"
  }
 },
 "nbformat": 4,
 "nbformat_minor": 5
}
