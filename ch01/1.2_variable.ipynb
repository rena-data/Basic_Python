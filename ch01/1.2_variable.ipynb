{
 "cells": [
  {
   "cell_type": "markdown",
   "id": "c841533b",
   "metadata": {},
   "source": [
    "## 1.2 변수(variable)"
   ]
  },
  {
   "cell_type": "code",
   "execution_count": null,
   "id": "b8c66298",
   "metadata": {},
   "outputs": [
    {
     "data": {
      "text/plain": [
       "1000300"
      ]
     },
     "execution_count": 1,
     "metadata": {},
     "output_type": "execute_result"
    }
   ],
   "source": [
    "# 정숫값을 가리키는 변수\n",
    "watch = 1000000\n",
    "lighter = 300\n",
    "\n",
    "watch + lighter"
   ]
  },
  {
   "cell_type": "code",
   "execution_count": null,
   "id": "dbe1d8f5",
   "metadata": {},
   "outputs": [
    {
     "data": {
      "text/plain": [
       "850000.0"
      ]
     },
     "execution_count": 3,
     "metadata": {},
     "output_type": "execute_result"
    }
   ],
   "source": [
    "# 변수를 이용해 숫자를 계산\n",
    "## 백만 원짜리 시계를 15% 할인한 가격\n",
    "watch * (1-0.15)"
   ]
  },
  {
   "cell_type": "code",
   "execution_count": null,
   "id": "f857d0b9",
   "metadata": {},
   "outputs": [
    {
     "data": {
      "text/plain": [
       "4250.0"
      ]
     },
     "execution_count": 4,
     "metadata": {},
     "output_type": "execute_result"
    }
   ],
   "source": [
    "# 변수의 값을 계산해 같은 변수에 다시 대입\n",
    "## 변수 = 변수 * 값\n",
    "price = 5000\n",
    "price = price * 0.85\n",
    "price"
   ]
  },
  {
   "cell_type": "code",
   "execution_count": null,
   "id": "724aec42",
   "metadata": {},
   "outputs": [
    {
     "data": {
      "text/plain": [
       "4250.0"
      ]
     },
     "execution_count": 5,
     "metadata": {},
     "output_type": "execute_result"
    }
   ],
   "source": [
    "## 변수 *= 값\n",
    "price = 5000\n",
    "price *= 0.85\n",
    "price"
   ]
  },
  {
   "cell_type": "code",
   "execution_count": 7,
   "id": "032dbb26",
   "metadata": {},
   "outputs": [
    {
     "data": {
      "text/plain": [
       "'catmom'"
      ]
     },
     "execution_count": 7,
     "metadata": {},
     "output_type": "execute_result"
    }
   ],
   "source": [
    "# 문자열을 가리키는 변수\n",
    "a = 'cat'\n",
    "b = 'mom'\n",
    "a + b"
   ]
  },
  {
   "cell_type": "code",
   "execution_count": 8,
   "id": "e09ded7b",
   "metadata": {},
   "outputs": [
    {
     "data": {
      "text/plain": [
       "'cat mom'"
      ]
     },
     "execution_count": 8,
     "metadata": {},
     "output_type": "execute_result"
    }
   ],
   "source": [
    "a + ' ' + b"
   ]
  },
  {
   "cell_type": "markdown",
   "id": "f50c869c",
   "metadata": {},
   "source": [
    "### 1.2.1 연습 문제: 파일 크기 계산\n",
    "파일을 다운로드할 때의 평균 속도(average rate)를 r이라 하고, 다운로드하는 데 걸린 시간(time)을 t라고 할 때, 다운로드한 파일의 용량은 r * t로 계산할 수 있습니다.<br>\n",
    "다운로드 속도가 초당 800kB이고 다운로드하는 데 걸린 시간이 110초라고 할 때, 다운로드한 파일의 크기는 몇 MB일까요?<br> \n",
    "단, 1MB = 1000kB로 계산합니다."
   ]
  },
  {
   "cell_type": "code",
   "execution_count": 10,
   "id": "851d3a61",
   "metadata": {},
   "outputs": [
    {
     "data": {
      "text/plain": [
       "88.0"
      ]
     },
     "execution_count": 10,
     "metadata": {},
     "output_type": "execute_result"
    }
   ],
   "source": [
    "r = 800/1000\n",
    "t = 110\n",
    "r * t"
   ]
  }
 ],
 "metadata": {
  "kernelspec": {
   "display_name": "Python 3",
   "language": "python",
   "name": "python3"
  },
  "language_info": {
   "codemirror_mode": {
    "name": "ipython",
    "version": 3
   },
   "file_extension": ".py",
   "mimetype": "text/x-python",
   "name": "python",
   "nbconvert_exporter": "python",
   "pygments_lexer": "ipython3",
   "version": "3.11.11"
  }
 },
 "nbformat": 4,
 "nbformat_minor": 5
}
