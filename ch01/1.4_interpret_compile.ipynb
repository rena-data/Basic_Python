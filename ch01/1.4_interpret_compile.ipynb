{
 "cells": [
  {
   "cell_type": "markdown",
   "id": "73816cc2",
   "metadata": {},
   "source": [
    "## 1.4 인터프리터(interpreter)와 컴파일러(compiler)\n",
    "* 인터프리트(interpret): 한마디 할때마다 동시통역해주는 방식 (ex. python)\n",
    "* 인터프리터(interpreter): 코드를 한 줄씩 읽고 바로 실행하는 프로그램 (예: Python)\n",
    "* 컴파일(compile): 말하는 것을 처음부터 끝까지 듣고 나서 한번에 변경해주는 방식\n",
    "* 컴파일러(compiler): 코드를 한 번에 모두 번역해서 실행 파일로 만드는 프로그램 (예: C, C++)"
   ]
  },
  {
   "cell_type": "markdown",
   "id": "5a8beb52",
   "metadata": {},
   "source": [
    "## 1.6 파이썬 인터프리터"
   ]
  },
  {
   "cell_type": "code",
   "execution_count": 3,
   "id": "5f117923",
   "metadata": {},
   "outputs": [
    {
     "name": "stdout",
     "output_type": "stream",
     "text": [
      "직각삼각형 그리기\n",
      "\n",
      "* \n",
      "* * \n",
      "* * * \n",
      "* * * * \n",
      "넓이: 8.0\n"
     ]
    }
   ],
   "source": [
    "# 파일 제목 'triangle.py'라는 이름으로 저장하기\n",
    "print('직각삼각형 그리기\\n')\n",
    "leg = int(input('변의 길이: '))\n",
    "\n",
    "for i in range(leg):\n",
    "    print('* ' * (i + 1))\n",
    "\n",
    "area = (leg ** 2) / 2\n",
    "print('넓이:', area)"
   ]
  },
  {
   "cell_type": "markdown",
   "id": "e388199c",
   "metadata": {},
   "source": [
    "### 1.6.1 연습 문제: 제곱\n",
    "사용자에게 정수를 입력받아, 그 수의 제곱을 계산해 출력하는 파이썬 스크립트를 작성"
   ]
  },
  {
   "cell_type": "code",
   "execution_count": null,
   "id": "ff69c28b",
   "metadata": {},
   "outputs": [],
   "source": [
    "# 예시 1 입력\n",
    "3\n",
    "# 출력\n",
    "9"
   ]
  },
  {
   "cell_type": "code",
   "execution_count": null,
   "id": "1785b051",
   "metadata": {},
   "outputs": [],
   "source": [
    "# 예시 2 입력\n",
    "5\n",
    "# 출력\n",
    "25"
   ]
  },
  {
   "cell_type": "code",
   "execution_count": 11,
   "id": "c8182622",
   "metadata": {},
   "outputs": [
    {
     "name": "stdout",
     "output_type": "stream",
     "text": [
      "9\n"
     ]
    }
   ],
   "source": [
    "num = int(input())\n",
    "print(num * num)"
   ]
  },
  {
   "cell_type": "code",
   "execution_count": 12,
   "id": "d5a3f325",
   "metadata": {},
   "outputs": [
    {
     "name": "stdout",
     "output_type": "stream",
     "text": [
      "9\n"
     ]
    }
   ],
   "source": [
    "num = int(input(\"정수를 입력하세요: \"))\n",
    "print(num * num)"
   ]
  },
  {
   "cell_type": "code",
   "execution_count": 13,
   "id": "46e69c2b",
   "metadata": {},
   "outputs": [
    {
     "name": "stdout",
     "output_type": "stream",
     "text": [
      "유효한 정수 입력 필요\n"
     ]
    }
   ],
   "source": [
    "# 정수가 아닌 소수점, 문자열 등을 입력할 경우 에러 출력됨\n",
    "try:\n",
    "  num = int(input(\"정수를 입력하세요: \"))\n",
    "  print(num * num)\n",
    "except ValueError:\n",
    "  print(\"유효한 정수 입력 필요\")"
   ]
  },
  {
   "cell_type": "code",
   "execution_count": null,
   "id": "cc25d01b",
   "metadata": {},
   "outputs": [],
   "source": []
  }
 ],
 "metadata": {
  "kernelspec": {
   "display_name": "Python 3",
   "language": "python",
   "name": "python3"
  },
  "language_info": {
   "codemirror_mode": {
    "name": "ipython",
    "version": 3
   },
   "file_extension": ".py",
   "mimetype": "text/x-python",
   "name": "python",
   "nbconvert_exporter": "python",
   "pygments_lexer": "ipython3",
   "version": "3.11.11"
  }
 },
 "nbformat": 4,
 "nbformat_minor": 5
}
