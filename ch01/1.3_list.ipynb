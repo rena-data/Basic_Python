{
 "cells": [
  {
   "cell_type": "markdown",
   "id": "66c6f673",
   "metadata": {},
   "source": [
    "## 1.3 리스트(list)"
   ]
  },
  {
   "cell_type": "code",
   "execution_count": 13,
   "id": "06e62fe9",
   "metadata": {},
   "outputs": [],
   "source": [
    "# 리스트: 여러개의 자료를 묶은것\n",
    "family = ['father', 'mother', 'me', 'sister']"
   ]
  },
  {
   "cell_type": "code",
   "execution_count": 14,
   "id": "2ef57e38",
   "metadata": {},
   "outputs": [
    {
     "data": {
      "text/plain": [
       "4"
      ]
     },
     "execution_count": 14,
     "metadata": {},
     "output_type": "execute_result"
    }
   ],
   "source": [
    "# list에 element가 몇개 들어있는지 보여줌\n",
    "len(family)"
   ]
  },
  {
   "cell_type": "code",
   "execution_count": 15,
   "id": "1f530689",
   "metadata": {},
   "outputs": [
    {
     "data": {
      "text/plain": [
       "'sister'"
      ]
     },
     "execution_count": 15,
     "metadata": {},
     "output_type": "execute_result"
    }
   ],
   "source": [
    "# 리스트 내부 가장 왼쪽 원소는 0부터 카운팅\n",
    "# 3 -> 'sister' 의미함\n",
    "family[3]"
   ]
  },
  {
   "cell_type": "code",
   "execution_count": 16,
   "id": "41d65e01",
   "metadata": {},
   "outputs": [
    {
     "data": {
      "text/plain": [
       "'me'"
      ]
     },
     "execution_count": 16,
     "metadata": {},
     "output_type": "execute_result"
    }
   ],
   "source": [
    "# 'me' 원소를 찾기 위해서는?\n",
    "family[2]"
   ]
  },
  {
   "cell_type": "code",
   "execution_count": 17,
   "id": "b6d609a8",
   "metadata": {},
   "outputs": [
    {
     "data": {
      "text/plain": [
       "['father', 'mother', 'sister']"
      ]
     },
     "execution_count": 17,
     "metadata": {},
     "output_type": "execute_result"
    }
   ],
   "source": [
    "# remone(): list의 원소 중 ()괄호 안에 기재되어 있는 원소 삭제\n",
    "family.remove('me')\n",
    "family"
   ]
  }
 ],
 "metadata": {
  "kernelspec": {
   "display_name": "Python 3",
   "language": "python",
   "name": "python3"
  },
  "language_info": {
   "codemirror_mode": {
    "name": "ipython",
    "version": 3
   },
   "file_extension": ".py",
   "mimetype": "text/x-python",
   "name": "python",
   "nbconvert_exporter": "python",
   "pygments_lexer": "ipython3",
   "version": "3.11.11"
  }
 },
 "nbformat": 4,
 "nbformat_minor": 5
}
